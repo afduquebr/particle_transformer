{
 "cells": [
  {
   "cell_type": "code",
   "execution_count": 12,
   "id": "a2a04ec9-afbd-41b1-99cc-e7af5d2aee75",
   "metadata": {},
   "outputs": [],
   "source": [
    "import uproot as up\n",
    "import tables as tb\n",
    "import numpy as np\n",
    "import pandas as pd\n",
    "import matplotlib.pyplot as plt\n",
    "from sklearn.metrics import confusion_matrix, ConfusionMatrixDisplay\n",
    "from sklearn.metrics import roc_curve, auc"
   ]
  },
  {
   "cell_type": "code",
   "execution_count": 60,
   "id": "585e9fea-d635-47d6-8fd1-0f6b0fb8ab96",
   "metadata": {},
   "outputs": [],
   "source": [
    "labels = ['label_QCD', 'label_WZ', 'label_top', 'label_higgs']"
   ]
  },
  {
   "cell_type": "code",
   "execution_count": 45,
   "id": "1b83866b-fa25-4061-a313-660724cd8755",
   "metadata": {},
   "outputs": [],
   "source": [
    "label_names = [\"QCD\", \"WZ\", \"Top\", \"Higgs\"]"
   ]
  },
  {
   "cell_type": "code",
   "execution_count": 36,
   "id": "8e653462-24c4-4f43-9ed7-3af0fadb61a9",
   "metadata": {},
   "outputs": [],
   "source": [
    "path = \"/sps/atlas/a/aduque/particle_transformer/PFN/data_train\""
   ]
  },
  {
   "cell_type": "code",
   "execution_count": 37,
   "id": "50d01ea0-aa2f-42f0-a1b2-3a276086d84c",
   "metadata": {},
   "outputs": [],
   "source": [
    "file = tb.File(f\"{path}/train_10M.h5\", mode='r')"
   ]
  },
  {
   "cell_type": "code",
   "execution_count": 66,
   "id": "2f1a790c-d000-4f89-b3c2-7dc0e1ea728d",
   "metadata": {},
   "outputs": [],
   "source": [
    "label_array_temp = []\n",
    "for label in labels:\n",
    "    label_array_temp.append(file.root[label][:])\n",
    "\n",
    "label_array = np.column_stack((label_array_temp[0], \n",
    "                               label_array_temp[1], \n",
    "                               label_array_temp[2],\n",
    "                               label_array_temp[3]\n",
    "                              ))\n",
    "del label_array_temp\n",
    "\n",
    "label_names = np.array([\"QCD\", \"WZ\", \"Top\", \"Higgs\"])\n",
    "label_indices = np.argmax(label_array, axis=1)\n",
    "labels = label_names[label_indices]\n",
    "\n",
    "weights = file.root['weight'][:]"
   ]
  },
  {
   "cell_type": "code",
   "execution_count": 73,
   "id": "80abba33-8749-46c7-a854-6758e0806ca7",
   "metadata": {},
   "outputs": [
    {
     "data": {
      "image/png": "[encoded data removed]",
      "text/plain": [
       "<Figure size 640x480 with 1 Axes>"
      ]
     },
     "metadata": {},
     "output_type": "display_data"
    }
   ],
   "source": [
    "\n",
    "plt.hist(\n",
    "    labels, \n",
    "    bins=50, \n",
    "    alpha=0.6, \n",
    "    weights=weights,\n",
    "    density=1\n",
    ")\n",
    "plt.xlabel(\"Weight\")\n",
    "plt.ylabel(\"Density\")\n",
    "plt.title(\"Reweighted Distribution by Class\")\n",
    "plt.grid(True)\n",
    "plt.show()\n"
   ]
  },
  {
   "cell_type": "code",
   "execution_count": 30,
   "id": "a4718d8c-81f5-42c4-bda6-60777bda9169",
   "metadata": {},
   "outputs": [
    {
     "name": "stdout",
     "output_type": "stream",
     "text": [
      "<class 'str'>\n"
     ]
    }
   ],
   "source": [
    "print(type(\"hello\"))  # Output: <class 'str'>\n"
   ]
  },
  {
   "cell_type": "code",
   "execution_count": 75,
   "id": "7587b94e-8655-4ce1-97e1-6a94b1461e38",
   "metadata": {},
   "outputs": [
    {
     "data": {
      "text/plain": [
       "np.float64(2501624.9859445393)"
      ]
     },
     "execution_count": 75,
     "metadata": {},
     "output_type": "execute_result"
    }
   ],
   "source": [
    "weights[labels == 'Higgs'].sum()"
   ]
  },
  {
   "cell_type": "code",
   "execution_count": 76,
   "id": "2d4eccbf-c3ab-4a64-800d-6fca5f237969",
   "metadata": {},
   "outputs": [
    {
     "data": {
      "text/plain": [
       "np.float64(2500000.0)"
      ]
     },
     "execution_count": 76,
     "metadata": {},
     "output_type": "execute_result"
    }
   ],
   "source": [
    "weights[labels == 'WZ'].sum()"
   ]
  },
  {
   "cell_type": "code",
   "execution_count": 77,
   "id": "a4b6619c-3df1-46c6-b471-880e2d22e0cd",
   "metadata": {},
   "outputs": [
    {
     "data": {
      "text/plain": [
       "np.float64(2500000.0)"
      ]
     },
     "execution_count": 77,
     "metadata": {},
     "output_type": "execute_result"
    }
   ],
   "source": [
    "weights[labels == 'QCD'].sum()"
   ]
  },
  {
   "cell_type": "code",
   "execution_count": 78,
   "id": "72d5fb3a-4ac2-4bd6-b341-6611361caff1",
   "metadata": {},
   "outputs": [
    {
     "data": {
      "text/plain": [
       "np.float64(2500000.0)"
      ]
     },
     "execution_count": 78,
     "metadata": {},
     "output_type": "execute_result"
    }
   ],
   "source": [
    "weights[labels == 'Top'].sum()"
   ]
  },
  {
   "cell_type": "code",
   "execution_count": null,
   "id": "7dbd2d3f-43b9-464c-860f-afc044bbe42f",
   "metadata": {},
   "outputs": [],
   "source": []
  }
 ],
 "metadata": {
  "kernelspec": {
   "display_name": "Python 3 (ipykernel)",
   "language": "python",
   "name": "python3"
  },
  "language_info": {
   "codemirror_mode": {
    "name": "ipython",
    "version": 3
   },
   "file_extension": ".py",
   "mimetype": "text/x-python",
   "name": "python",
   "nbconvert_exporter": "python",
   "pygments_lexer": "ipython3",
   "version": "3.11.9"
  }
 },
 "nbformat": 4,
 "nbformat_minor": 5
}
